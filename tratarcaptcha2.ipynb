{
  "nbformat": 4,
  "nbformat_minor": 0,
  "metadata": {
    "colab": {
      "name": "tratarcaptcha2.ipynb",
      "provenance": [],
      "authorship_tag": "ABX9TyPbrNpu8E/ifri93K8OFTwO",
      "include_colab_link": true
    },
    "kernelspec": {
      "name": "python3",
      "display_name": "Python 3"
    },
    "language_info": {
      "name": "python"
    }
  },
  "cells": [
    {
      "cell_type": "markdown",
      "metadata": {
        "id": "view-in-github",
        "colab_type": "text"
      },
      "source": [
        "<a href=\"https://colab.research.google.com/github/szalbuque/projetocaptchapython/blob/main/tratarcaptcha2.ipynb\" target=\"_parent\"><img src=\"https://colab.research.google.com/assets/colab-badge.svg\" alt=\"Open In Colab\"/></a>"
      ]
    },
    {
      "cell_type": "code",
      "execution_count": null,
      "metadata": {
        "colab": {
          "base_uri": "https://localhost:8080/"
        },
        "id": "0NwRqM-aYJvY",
        "outputId": "a6913a14-7538-453b-afaa-bd98e8679ef6"
      },
      "outputs": [
        {
          "output_type": "stream",
          "name": "stdout",
          "text": [
            "Drive already mounted at /content/drive; to attempt to forcibly remount, call drive.mount(\"/content/drive\", force_remount=True).\n",
            "/content/drive/My Drive/PROJETOCAPTCHA/imagens_poucas/Capturar.PNG\n",
            "/content/drive/My Drive/PROJETOCAPTCHA/imagens_poucas/Capturar2.PNG\n",
            "/content/drive/My Drive/PROJETOCAPTCHA/imagens_poucas/Capturar3.PNG\n",
            "/content/drive/My Drive/PROJETOCAPTCHA/imagens_poucas/Capturar4.PNG\n",
            "/content/drive/My Drive/PROJETOCAPTCHA/imagens_poucas/Capturar5.PNG\n",
            "/content/drive/My Drive/PROJETOCAPTCHA/imagens_poucas/Capturar6.PNG\n",
            "/content/drive/My Drive/PROJETOCAPTCHA/imagens_poucas/Capturar7.PNG\n",
            "qtde de arquivos na pasta ajeitado após a primeira parte: 7\n",
            "Capturar.PNG\n",
            "Capturar2.PNG\n",
            "Capturar3.PNG\n",
            "Capturar4.PNG\n",
            "Capturar5.PNG\n",
            "Capturar6.PNG\n",
            "Capturar7.PNG\n"
          ]
        }
      ],
      "source": [
        "import os\n",
        "import glob\n",
        "import cv2\n",
        "from PIL import Image\n",
        "from google.colab import drive\n",
        "\n",
        "drive.mount('/content/drive') # aceite a permissão\n",
        "def tratar_imagens(pasta_origem,pasta_destino='ajeitado'):\n",
        "  # primeira parte do tratamento\n",
        "  #ler todos os arquivos de captcha da pasta origem\n",
        "  arquivos = glob.glob(f\"{pasta_origem}/*\")\n",
        "  for arquivo in arquivos:\n",
        "    print(arquivo)\n",
        "    imagem = cv2.imread(arquivo)\n",
        "    #transformar em escala de cinza\n",
        "    imagem_cinza = cv2.cvtColor(imagem, cv2.COLOR_RGB2GRAY)\n",
        "    # limpar imagem\n",
        "    _,imagem_tratada = cv2.threshold(imagem_cinza, 115, 200, cv2.THRESH_TRUNC or cv2.THRESH_OTSU)\n",
        "    # salvar na pasta destino\n",
        "    nome_arquivo = os.path.basename(arquivo)\n",
        "    cv2.imwrite(f'/content/drive/My Drive/PROJETOCAPTCHA/ajeitado/{nome_arquivo}',imagem_tratada)\n",
        "  # segunda parte do tratamento: deixar tudo em preto e branco\n",
        "  arquivos = glob.glob(\"/content/drive/My Drive/PROJETOCAPTCHA/ajeitado/*\")\n",
        "  print('qtde de arquivos na pasta ajeitado após a primeira parte:',len(arquivos))\n",
        "  for arquivo in arquivos:\n",
        "    imagem = Image.open(arquivo)\n",
        "    # converter para tons de cinza\n",
        "    imagem = imagem.convert(\"P\")\n",
        "    # cria uma imagem do mesmo tamanho da imagem aberta, com fundo branco\n",
        "    imagem2 = Image.new(\"P\",imagem.size,255)\n",
        "    largura = imagem.size[1]\n",
        "    altura = imagem.size[0]\n",
        "    for col in range(largura):\n",
        "      for lin in range(altura):\n",
        "        cor_pixel = imagem.getpixel((lin,col))\n",
        "        if cor_pixel < 115:\n",
        "          # pintar pixels escuros de preto\n",
        "          imagem2.putpixel((lin,col),0)\n",
        "    nome_arquivo = os.path.basename(arquivo)\n",
        "    print(nome_arquivo)\n",
        "    imagem2.save(f'/content/drive/My Drive/PROJETOCAPTCHA/ajeitado/{nome_arquivo}')\n",
        "    \n",
        "tratar_imagens('/content/drive/My Drive/PROJETOCAPTCHA/imagens_poucas')"
      ]
    }
  ]
}